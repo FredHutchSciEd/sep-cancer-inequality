{
 "cells": [
  {
   "cell_type": "code",
   "execution_count": 35,
   "metadata": {},
   "outputs": [],
   "source": [
    "import numpy as np\n",
    "import pandas as pd\n",
    "from statistics import mean"
   ]
  },
  {
   "cell_type": "code",
   "execution_count": 36,
   "metadata": {},
   "outputs": [],
   "source": [
    "file_root = \"../../data/raw/\""
   ]
  },
  {
   "cell_type": "code",
   "execution_count": 37,
   "metadata": {
    "scrolled": true
   },
   "outputs": [],
   "source": [
    "# The latest snapshot of pesticide usage by county is from 2017. This is a TAB separated file.\n",
    "file_name = \"EPest_county_estimates_2013_2017_v2.txt\"\n",
    "\n",
    "df = pd.read_csv(file_root + file_name, sep='\\t', header=0)"
   ]
  },
  {
   "cell_type": "code",
   "execution_count": 38,
   "metadata": {
    "scrolled": true
   },
   "outputs": [
    {
     "name": "stdout",
     "output_type": "stream",
     "text": [
      "Column names: ['COMPOUND' 'YEAR' 'STATE_FIPS_CODE' 'COUNTY_FIPS_CODE' 'EPEST_LOW_KG'\n",
      " 'EPEST_HIGH_KG']\n",
      "Total number of rows: 2004805\n",
      "Number of rows for 2017: 374887\n"
     ]
    }
   ],
   "source": [
    "print(\"Column names:\", df.columns.values)\n",
    "print(\"Total number of rows:\", df.shape[0])\n",
    "print(\"Number of rows for 2017:\", df[df['YEAR'] == 2017].shape[0])"
   ]
  },
  {
   "cell_type": "code",
   "execution_count": 39,
   "metadata": {},
   "outputs": [],
   "source": [
    "# Select data for a single year\n",
    "df = df[df['YEAR'] == 2017]"
   ]
  },
  {
   "cell_type": "code",
   "execution_count": 40,
   "metadata": {},
   "outputs": [],
   "source": [
    "# In this dataset, the FIPS code is separated between State and County codes\n",
    "fips_column = df.apply(lambda row: str(row.STATE_FIPS_CODE).zfill(2) + str(row.COUNTY_FIPS_CODE).zfill(3), axis=1)\n",
    "df = df.assign(fips=fips_column.values)"
   ]
  },
  {
   "cell_type": "code",
   "execution_count": 42,
   "metadata": {},
   "outputs": [],
   "source": [
    "# Remove commas from column values to avoid problem when exporting to CSV.\n",
    "compound_column = df.apply(lambda row: row.COMPOUND.replace(\",\", \"-\"), axis=1)\n",
    "df = df.assign(compound=compound_column.values)"
   ]
  },
  {
   "cell_type": "code",
   "execution_count": 43,
   "metadata": {},
   "outputs": [],
   "source": [
    "# Calculate the mean mass of pesticide released per county.\n",
    "#\n",
    "# Based on further exploration and visualizations, we might normalize the mass of pesticides by county area or population. For now, this is the total in kg.\n",
    "mass_column = df.apply(lambda row: np.nanmean([row.EPEST_LOW_KG, row.EPEST_HIGH_KG]), axis=1)\n",
    "df = df.assign(mass=mass_column.values)"
   ]
  },
  {
   "cell_type": "code",
   "execution_count": 44,
   "metadata": {},
   "outputs": [],
   "source": [
    "df = df[['fips', 'compound', 'mass']]"
   ]
  },
  {
   "cell_type": "code",
   "execution_count": 45,
   "metadata": {},
   "outputs": [],
   "source": [
    "compounds = df.compound.unique()\n",
    "\n",
    "for compound in compounds:\n",
    "    pesticide = df[df['compound'] == compound]\n",
    "    pesticide = pesticide[['fips', 'mass']]\n",
    "    pesticide.dropna()\n",
    "    pesticide.to_csv(f\"../../data/processed/pesticide_{compound}_mass.csv\", index=False)"
   ]
  },
  {
   "cell_type": "code",
   "execution_count": null,
   "metadata": {},
   "outputs": [],
   "source": []
  }
 ],
 "metadata": {
  "kernelspec": {
   "display_name": "Python 3 (ipykernel)",
   "language": "python",
   "name": "python3"
  },
  "language_info": {
   "codemirror_mode": {
    "name": "ipython",
    "version": 3
   },
   "file_extension": ".py",
   "mimetype": "text/x-python",
   "name": "python",
   "nbconvert_exporter": "python",
   "pygments_lexer": "ipython3",
   "version": "3.7.15"
  }
 },
 "nbformat": 4,
 "nbformat_minor": 4
}
